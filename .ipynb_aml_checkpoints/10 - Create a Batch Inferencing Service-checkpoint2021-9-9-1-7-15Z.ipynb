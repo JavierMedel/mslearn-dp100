{
  "cells": [
    {
      "cell_type": "markdown",
      "source": [
        "# Create a Batch Inferencing Service\n",
        "\n",
        "Imagine a health clinic takes patient measurements all day, saving the details for each patient in a separate file. Then overnight, the diabetes prediction model can be used to process all of the day's patient data as a batch, generating predictions that will be waiting the following morning so that the clinic can follow up with patients who are predicted to be at risk of diabetes. With Azure Machine Learning, you can accomplish this by creating a *batch inferencing pipeline*; and that's what you'll implement in this exercise."
      ],
      "metadata": {
        "collapsed": true
      }
    },
    {
      "cell_type": "markdown",
      "source": [
        "## Connect to your workspace\n",
        "\n",
        "To get started, connect to your workspace.\n",
        "\n",
        "> **Note**: If you haven't already established an authenticated session with your Azure subscription, you'll be prompted to authenticate by clicking a link, entering an authentication code, and signing into Azure."
      ],
      "metadata": {}
    },
    {
      "cell_type": "code",
      "source": [
        "import azureml.core\n",
        "from azureml.core import Workspace\n",
        "\n",
        "# Load the workspace from the saved config file\n",
        "ws = Workspace.from_config()\n",
        "print('Ready to use Azure ML {} to work with {}'.format(azureml.core.VERSION, ws.name))"
      ],
      "outputs": [
        {
          "output_type": "stream",
          "name": "stdout",
          "text": "Ready to use Azure ML 1.34.0 to work with ict-915-02-jmdl\n"
        }
      ],
      "execution_count": 1,
      "metadata": {
        "gather": {
          "logged": 1633738256232
        }
      }
    },
    {
      "cell_type": "markdown",
      "source": [
        "## Train and register a model\n",
        "\n",
        "Now let's train and register a model to deploy in a batch inferencing pipeline."
      ],
      "metadata": {}
    },
    {
      "cell_type": "code",
      "source": [
        "from azureml.core import Experiment\n",
        "from azureml.core import Model\n",
        "import pandas as pd\n",
        "import numpy as np\n",
        "import joblib\n",
        "from sklearn.model_selection import train_test_split\n",
        "from sklearn.tree import DecisionTreeClassifier\n",
        "from sklearn.metrics import roc_auc_score\n",
        "from sklearn.metrics import roc_curve\n",
        "\n",
        "# Create an Azure ML experiment in your workspace\n",
        "experiment = Experiment(workspace=ws, name='mslearn-train-diabetes')\n",
        "run = experiment.start_logging()\n",
        "print(\"Starting experiment:\", experiment.name)\n",
        "\n",
        "# load the diabetes dataset\n",
        "print(\"Loading Data...\")\n",
        "diabetes = pd.read_csv('data/diabetes.csv')\n",
        "\n",
        "# Separate features and labels\n",
        "X, y = diabetes[['Pregnancies','PlasmaGlucose','DiastolicBloodPressure','TricepsThickness','SerumInsulin','BMI','DiabetesPedigree','Age']].values, diabetes['Diabetic'].values\n",
        "\n",
        "# Split data into training set and test set\n",
        "X_train, X_test, y_train, y_test = train_test_split(X, y, test_size=0.30, random_state=0)\n",
        "\n",
        "# Train a decision tree model\n",
        "print('Training a decision tree model')\n",
        "model = DecisionTreeClassifier().fit(X_train, y_train)\n",
        "\n",
        "# calculate accuracy\n",
        "y_hat = model.predict(X_test)\n",
        "acc = np.average(y_hat == y_test)\n",
        "print('Accuracy:', acc)\n",
        "run.log('Accuracy', np.float(acc))\n",
        "\n",
        "# calculate AUC\n",
        "y_scores = model.predict_proba(X_test)\n",
        "auc = roc_auc_score(y_test,y_scores[:,1])\n",
        "print('AUC: ' + str(auc))\n",
        "run.log('AUC', np.float(auc))\n",
        "\n",
        "# Save the trained model\n",
        "model_file = 'diabetes_model.pkl'\n",
        "joblib.dump(value=model, filename=model_file)\n",
        "run.upload_file(name = 'outputs/' + model_file, path_or_stream = './' + model_file)\n",
        "\n",
        "# Complete the run\n",
        "run.complete()\n",
        "\n",
        "# Register the model\n",
        "run.register_model(model_path='outputs/diabetes_model.pkl', model_name='diabetes_model',\n",
        "                   tags={'Training context':'Inline Training'},\n",
        "                   properties={'AUC': run.get_metrics()['AUC'], 'Accuracy': run.get_metrics()['Accuracy']})\n",
        "\n",
        "print('Model trained and registered.')"
      ],
      "outputs": [
        {
          "output_type": "stream",
          "name": "stdout",
          "text": "Starting experiment: mslearn-train-diabetes\nLoading Data...\nTraining a decision tree model\nAccuracy: 0.8893333333333333\nAUC: 0.8773322055823672\nModel trained and registered.\n"
        }
      ],
      "execution_count": 2,
      "metadata": {
        "gather": {
          "logged": 1633738348405
        }
      }
    },
    {
      "cell_type": "markdown",
      "source": [
        "## Generate and upload batch data\n",
        "\n",
        "Since we don't actually have a fully staffed clinic with patients from whom to get new data for this exercise, you'll generate a random sample from our diabetes CSV file, upload that data to a datastore in the Azure Machine Learning workspace, and register a dataset for it."
      ],
      "metadata": {}
    },
    {
      "cell_type": "code",
      "source": [
        "from azureml.core import Datastore, Dataset\n",
        "import pandas as pd\n",
        "import os\n",
        "\n",
        "# Set default data store\n",
        "ws.set_default_datastore('workspaceblobstore')\n",
        "default_ds = ws.get_default_datastore()\n",
        "\n",
        "# Enumerate all datastores, indicating which is the default\n",
        "for ds_name in ws.datastores:\n",
        "    print(ds_name, \"- Default =\", ds_name == default_ds.name)\n",
        "\n",
        "# Load the diabetes data\n",
        "diabetes = pd.read_csv('data/diabetes2.csv')\n",
        "# Get a 100-item sample of the feature columns (not the diabetic label)\n",
        "sample = diabetes[['Pregnancies','PlasmaGlucose','DiastolicBloodPressure','TricepsThickness','SerumInsulin','BMI','DiabetesPedigree','Age']].sample(n=100).values\n",
        "\n",
        "# Create a folder\n",
        "batch_folder = './batch-data'\n",
        "os.makedirs(batch_folder, exist_ok=True)\n",
        "print(\"Folder created!\")\n",
        "\n",
        "# Save each sample as a separate file\n",
        "print(\"Saving files...\")\n",
        "for i in range(100):\n",
        "    fname = str(i+1) + '.csv'\n",
        "    sample[i].tofile(os.path.join(batch_folder, fname), sep=\",\")\n",
        "print(\"files saved!\")\n",
        "\n",
        "# Upload the files to the default datastore\n",
        "print(\"Uploading files to datastore...\")\n",
        "default_ds = ws.get_default_datastore()\n",
        "default_ds.upload(src_dir=\"batch-data\", target_path=\"batch-data\", overwrite=True, show_progress=True)\n",
        "\n",
        "# Register a dataset for the input data\n",
        "batch_data_set = Dataset.File.from_files(path=(default_ds, 'batch-data/'), validate=False)\n",
        "try:\n",
        "    batch_data_set = batch_data_set.register(workspace=ws, \n",
        "                                             name='batch-data',\n",
        "                                             description='batch data',\n",
        "                                             create_new_version=True)\n",
        "except Exception as ex:\n",
        "    print(ex)\n",
        "\n",
        "print(\"Done!\")"
      ],
      "outputs": [
        {
          "output_type": "stream",
          "name": "stdout",
          "text": "azureml_globaldatasets - Default = False\nworkspaceblobstore - Default = True\nworkspaceartifactstore - Default = False\nworkspacefilestore - Default = False\nworkspaceworkingdirectory - Default = False\nFolder created!\nSaving files...\nfiles saved!\nUploading files to datastore...\nUploading an estimated of 100 files\nUploading batch-data/1.csv\nUploaded batch-data/1.csv, 1 files out of an estimated total of 100\nUploading batch-data/10.csv\nUploaded batch-data/10.csv, 2 files out of an estimated total of 100\nUploading batch-data/100.csv\nUploaded batch-data/100.csv, 3 files out of an estimated total of 100\nUploading batch-data/11.csv\nUploaded batch-data/11.csv, 4 files out of an estimated total of 100\nUploading batch-data/12.csv\nUploaded batch-data/12.csv, 5 files out of an estimated total of 100\nUploading batch-data/13.csv\nUploaded batch-data/13.csv, 6 files out of an estimated total of 100\nUploading batch-data/14.csv\nUploaded batch-data/14.csv, 7 files out of an estimated total of 100\nUploading batch-data/15.csv\nUploaded batch-data/15.csv, 8 files out of an estimated total of 100\nUploading batch-data/16.csv\nUploaded batch-data/16.csv, 9 files out of an estimated total of 100\nUploading batch-data/18.csv\nUploaded batch-data/18.csv, 10 files out of an estimated total of 100\nUploading batch-data/19.csv\nUploaded batch-data/19.csv, 11 files out of an estimated total of 100\nUploading batch-data/2.csv\nUploaded batch-data/2.csv, 12 files out of an estimated total of 100\nUploading batch-data/20.csv\nUploaded batch-data/20.csv, 13 files out of an estimated total of 100\nUploading batch-data/21.csv\nUploaded batch-data/21.csv, 14 files out of an estimated total of 100\nUploading batch-data/22.csv\nUploaded batch-data/22.csv, 15 files out of an estimated total of 100\nUploading batch-data/23.csv\nUploaded batch-data/23.csv, 16 files out of an estimated total of 100\nUploading batch-data/24.csv\nUploaded batch-data/24.csv, 17 files out of an estimated total of 100\nUploading batch-data/25.csv\nUploaded batch-data/25.csv, 18 files out of an estimated total of 100\nUploading batch-data/26.csv\nUploaded batch-data/26.csv, 19 files out of an estimated total of 100\nUploading batch-data/27.csv\nUploaded batch-data/27.csv, 20 files out of an estimated total of 100\nUploading batch-data/28.csv\nUploaded batch-data/28.csv, 21 files out of an estimated total of 100\nUploading batch-data/29.csv\nUploaded batch-data/29.csv, 22 files out of an estimated total of 100\nUploading batch-data/3.csv\nUploaded batch-data/3.csv, 23 files out of an estimated total of 100\nUploading batch-data/30.csv\nUploaded batch-data/30.csv, 24 files out of an estimated total of 100\nUploading batch-data/31.csv\nUploaded batch-data/31.csv, 25 files out of an estimated total of 100\nUploading batch-data/32.csv\nUploaded batch-data/32.csv, 26 files out of an estimated total of 100\nUploading batch-data/33.csv\nUploaded batch-data/33.csv, 27 files out of an estimated total of 100\nUploading batch-data/34.csv\nUploaded batch-data/34.csv, 28 files out of an estimated total of 100\nUploading batch-data/35.csv\nUploaded batch-data/35.csv, 29 files out of an estimated total of 100\nUploading batch-data/37.csv\nUploaded batch-data/37.csv, 30 files out of an estimated total of 100\nUploading batch-data/38.csv\nUploaded batch-data/38.csv, 31 files out of an estimated total of 100\nUploading batch-data/39.csv\nUploaded batch-data/39.csv, 32 files out of an estimated total of 100\nUploading batch-data/4.csv\nUploaded batch-data/4.csv, 33 files out of an estimated total of 100\nUploading batch-data/40.csv\nUploaded batch-data/40.csv, 34 files out of an estimated total of 100\nUploading batch-data/41.csv\nUploaded batch-data/41.csv, 35 files out of an estimated total of 100\nUploading batch-data/42.csv\nUploaded batch-data/42.csv, 36 files out of an estimated total of 100\nUploading batch-data/43.csv\nUploaded batch-data/43.csv, 37 files out of an estimated total of 100\nUploading batch-data/44.csv\nUploaded batch-data/44.csv, 38 files out of an estimated total of 100\nUploading batch-data/45.csv\nUploaded batch-data/45.csv, 39 files out of an estimated total of 100\nUploading batch-data/46.csv\nUploaded batch-data/46.csv, 40 files out of an estimated total of 100\nUploading batch-data/47.csv\nUploaded batch-data/47.csv, 41 files out of an estimated total of 100\nUploading batch-data/48.csv\nUploaded batch-data/48.csv, 42 files out of an estimated total of 100\nUploading batch-data/17.csv\nUploaded batch-data/17.csv, 43 files out of an estimated total of 100\nUploading batch-data/36.csv\nUploaded batch-data/36.csv, 44 files out of an estimated total of 100\nUploading batch-data/49.csv\nUploaded batch-data/49.csv, 45 files out of an estimated total of 100\nUploading batch-data/5.csv\nUploaded batch-data/5.csv, 46 files out of an estimated total of 100\nUploading batch-data/50.csv\nUploaded batch-data/50.csv, 47 files out of an estimated total of 100\nUploading batch-data/51.csv\nUploaded batch-data/51.csv, 48 files out of an estimated total of 100\nUploading batch-data/52.csv\nUploaded batch-data/52.csv, 49 files out of an estimated total of 100\nUploading batch-data/53.csv\nUploaded batch-data/53.csv, 50 files out of an estimated total of 100\nUploading batch-data/54.csv\nUploaded batch-data/54.csv, 51 files out of an estimated total of 100\nUploading batch-data/55.csv\nUploaded batch-data/55.csv, 52 files out of an estimated total of 100\nUploading batch-data/56.csv\nUploaded batch-data/56.csv, 53 files out of an estimated total of 100\nUploading batch-data/57.csv\nUploaded batch-data/57.csv, 54 files out of an estimated total of 100\nUploading batch-data/58.csv\nUploaded batch-data/58.csv, 55 files out of an estimated total of 100\nUploading batch-data/59.csv\nUploaded batch-data/59.csv, 56 files out of an estimated total of 100\nUploading batch-data/6.csv\nUploaded batch-data/6.csv, 57 files out of an estimated total of 100\nUploading batch-data/60.csv\nUploaded batch-data/60.csv, 58 files out of an estimated total of 100\nUploading batch-data/61.csv\nUploaded batch-data/61.csv, 59 files out of an estimated total of 100\nUploading batch-data/63.csv\nUploaded batch-data/63.csv, 60 files out of an estimated total of 100\nUploading batch-data/64.csv\nUploaded batch-data/64.csv, 61 files out of an estimated total of 100\nUploading batch-data/65.csv\nUploaded batch-data/65.csv, 62 files out of an estimated total of 100\nUploading batch-data/66.csv\nUploaded batch-data/66.csv, 63 files out of an estimated total of 100\nUploading batch-data/67.csv\nUploaded batch-data/67.csv, 64 files out of an estimated total of 100\nUploading batch-data/68.csv\nUploaded batch-data/68.csv, 65 files out of an estimated total of 100\nUploading batch-data/69.csv\nUploaded batch-data/69.csv, 66 files out of an estimated total of 100\nUploading batch-data/7.csv\nUploaded batch-data/7.csv, 67 files out of an estimated total of 100\nUploading batch-data/70.csv\nUploaded batch-data/70.csv, 68 files out of an estimated total of 100\nUploading batch-data/71.csv\nUploaded batch-data/71.csv, 69 files out of an estimated total of 100\nUploading batch-data/72.csv\nUploaded batch-data/72.csv, 70 files out of an estimated total of 100\nUploading batch-data/73.csv\nUploaded batch-data/73.csv, 71 files out of an estimated total of 100\nUploading batch-data/74.csv\nUploaded batch-data/74.csv, 72 files out of an estimated total of 100\nUploading batch-data/75.csv\nUploaded batch-data/75.csv, 73 files out of an estimated total of 100\nUploading batch-data/76.csv\nUploaded batch-data/76.csv, 74 files out of an estimated total of 100\nUploading batch-data/77.csv\nUploaded batch-data/77.csv, 75 files out of an estimated total of 100\nUploading batch-data/78.csv\nUploaded batch-data/78.csv, 76 files out of an estimated total of 100\nUploading batch-data/79.csv\nUploaded batch-data/79.csv, 77 files out of an estimated total of 100\nUploading batch-data/8.csv\nUploaded batch-data/8.csv, 78 files out of an estimated total of 100\nUploading batch-data/80.csv\nUploaded batch-data/80.csv, 79 files out of an estimated total of 100\nUploading batch-data/81.csv\nUploaded batch-data/81.csv, 80 files out of an estimated total of 100\nUploading batch-data/82.csv\nUploaded batch-data/82.csv, 81 files out of an estimated total of 100\nUploading batch-data/83.csv\nUploaded batch-data/83.csv, 82 files out of an estimated total of 100\nUploading batch-data/84.csv\nUploaded batch-data/84.csv, 83 files out of an estimated total of 100\nUploading batch-data/85.csv\nUploaded batch-data/85.csv, 84 files out of an estimated total of 100\nUploading batch-data/86.csv\nUploaded batch-data/86.csv, 85 files out of an estimated total of 100\nUploading batch-data/87.csv\nUploaded batch-data/87.csv, 86 files out of an estimated total of 100\nUploading batch-data/88.csv\nUploaded batch-data/88.csv, 87 files out of an estimated total of 100\nUploading batch-data/89.csv\nUploaded batch-data/89.csv, 88 files out of an estimated total of 100\nUploading batch-data/9.csv\nUploaded batch-data/9.csv, 89 files out of an estimated total of 100\nUploading batch-data/90.csv\nUploaded batch-data/90.csv, 90 files out of an estimated total of 100\nUploading batch-data/91.csv\nUploaded batch-data/91.csv, 91 files out of an estimated total of 100\nUploading batch-data/92.csv\nUploaded batch-data/92.csv, 92 files out of an estimated total of 100\nUploading batch-data/93.csv\nUploaded batch-data/93.csv, 93 files out of an estimated total of 100\nUploading batch-data/94.csv\nUploaded batch-data/94.csv, 94 files out of an estimated total of 100\nUploading batch-data/95.csv\nUploaded batch-data/95.csv, 95 files out of an estimated total of 100\nUploading batch-data/96.csv\nUploaded batch-data/96.csv, 96 files out of an estimated total of 100\nUploading batch-data/97.csv\nUploaded batch-data/97.csv, 97 files out of an estimated total of 100\nUploading batch-data/98.csv\nUploaded batch-data/98.csv, 98 files out of an estimated total of 100\nUploading batch-data/99.csv\nUploaded batch-data/99.csv, 99 files out of an estimated total of 100\nUploading batch-data/62.csv\nUploaded batch-data/62.csv, 100 files out of an estimated total of 100\nUploaded 100 files\nDone!\n"
        }
      ],
      "execution_count": 3,
      "metadata": {
        "gather": {
          "logged": 1633738696926
        }
      }
    },
    {
      "cell_type": "markdown",
      "source": [
        "## Create compute\n",
        "\n",
        "We'll need a compute context for the pipeline, so we'll use the following code to specify an Azure Machine Learning compute cluster (it will be created if it doesn't already exist).\n",
        "\n",
        "> **Important**: Change *your-compute-cluster* to the name of your compute cluster in the code below before running it! Cluster names must be globally unique names between 2 to 16 characters in length. Valid characters are letters, digits, and the - character."
      ],
      "metadata": {}
    },
    {
      "cell_type": "code",
      "source": [
        "from azureml.core.compute import ComputeTarget, AmlCompute\n",
        "from azureml.core.compute_target import ComputeTargetException\n",
        "\n",
        "cluster_name = \"CT-915-02-JMDL\"\n",
        "\n",
        "try:\n",
        "    # Check for existing compute target\n",
        "    inference_cluster = ComputeTarget(workspace=ws, name=cluster_name)\n",
        "    print('Found existing cluster, use it.')\n",
        "except ComputeTargetException:\n",
        "    # If it doesn't already exist, create it\n",
        "    try:\n",
        "        compute_config = AmlCompute.provisioning_configuration(vm_size='STANDARD_DS11_V2', max_nodes=2)\n",
        "        inference_cluster = ComputeTarget.create(ws, cluster_name, compute_config)\n",
        "        inference_cluster.wait_for_completion(show_output=True)\n",
        "    except Exception as ex:\n",
        "        print(ex)\n",
        "    "
      ],
      "outputs": [
        {
          "output_type": "stream",
          "name": "stdout",
          "text": "Found existing cluster, use it.\n"
        }
      ],
      "execution_count": 4,
      "metadata": {
        "gather": {
          "logged": 1633738863248
        }
      }
    },
    {
      "cell_type": "markdown",
      "source": [
        "> **Note**: Compute instances and clusters are based on standard Azure virtual machine images. For this exercise, the *Standard_DS11_v2* image is recommended to achieve the optimal balance of cost and performance. If your subscription has a quota that does not include this image, choose an alternative image; but bear in mind that a larger image may incur higher cost and a smaller image may not be sufficient to complete the tasks. Alternatively, ask your Azure administrator to extend your quota.\n",
        "\n",
        "## Create a pipeline for batch inferencing\n",
        "\n",
        "Now we're ready to define the pipeline we'll use for batch inferencing. Our pipeline will need Python code to perform the batch inferencing, so let's create a folder where we can keep all the files used by the pipeline:"
      ],
      "metadata": {}
    },
    {
      "cell_type": "code",
      "source": [
        "import os\n",
        "# Create a folder for the experiment files\n",
        "experiment_folder = 'batch_pipeline'\n",
        "os.makedirs(experiment_folder, exist_ok=True)\n",
        "\n",
        "print(experiment_folder)"
      ],
      "outputs": [
        {
          "output_type": "stream",
          "name": "stdout",
          "text": "batch_pipeline\n"
        }
      ],
      "execution_count": 5,
      "metadata": {
        "gather": {
          "logged": 1633738926152
        }
      }
    },
    {
      "cell_type": "markdown",
      "source": [
        "Now we'll create a Python script to do the actual work, and save it in the pipeline folder:"
      ],
      "metadata": {}
    },
    {
      "cell_type": "code",
      "source": [
        "%%writefile $experiment_folder/batch_diabetes.py\n",
        "import os\n",
        "import numpy as np\n",
        "from azureml.core import Model\n",
        "import joblib\n",
        "\n",
        "\n",
        "def init():\n",
        "    # Runs when the pipeline step is initialized\n",
        "    global model\n",
        "\n",
        "    # load the model\n",
        "    model_path = Model.get_model_path('diabetes_model')\n",
        "    model = joblib.load(model_path)\n",
        "\n",
        "\n",
        "def run(mini_batch):\n",
        "    # This runs for each batch\n",
        "    resultList = []\n",
        "\n",
        "    # process each file in the batch\n",
        "    for f in mini_batch:\n",
        "        # Read the comma-delimited data into an array\n",
        "        data = np.genfromtxt(f, delimiter=',')\n",
        "        # Reshape into a 2-dimensional array for prediction (model expects multiple items)\n",
        "        prediction = model.predict(data.reshape(1, -1))\n",
        "        # Append prediction to results\n",
        "        resultList.append(\"{}: {}\".format(os.path.basename(f), prediction[0]))\n",
        "    return resultList"
      ],
      "outputs": [
        {
          "output_type": "stream",
          "name": "stdout",
          "text": "Writing batch_pipeline/batch_diabetes.py\n"
        }
      ],
      "execution_count": 6,
      "metadata": {}
    },
    {
      "cell_type": "markdown",
      "source": [
        "The pipeline will need an environment in which to run, so we'll create a Conda specification that includes the packages that the code uses."
      ],
      "metadata": {}
    },
    {
      "cell_type": "code",
      "source": [
        "%%writefile $experiment_folder/batch_environment.yml\n",
        "name: batch_environment\n",
        "dependencies:\n",
        "- python=3.6.2\n",
        "- scikit-learn\n",
        "- pip\n",
        "- pip:\n",
        "  - azureml-defaults"
      ],
      "outputs": [
        {
          "output_type": "stream",
          "name": "stdout",
          "text": "Writing batch_pipeline/batch_environment.yml\n"
        }
      ],
      "execution_count": 7,
      "metadata": {}
    },
    {
      "cell_type": "markdown",
      "source": [
        "Next we'll define a run context that includes the Conda environment."
      ],
      "metadata": {}
    },
    {
      "cell_type": "code",
      "source": [
        "from azureml.core import Environment\n",
        "from azureml.core.runconfig import DEFAULT_CPU_IMAGE\n",
        "\n",
        "# Create an Environment for the experiment\n",
        "batch_env = Environment.from_conda_specification(\"experiment_env\", experiment_folder + \"/batch_environment.yml\")\n",
        "batch_env.docker.base_image = DEFAULT_CPU_IMAGE\n",
        "print('Configuration ready.')"
      ],
      "outputs": [
        {
          "output_type": "stream",
          "name": "stdout",
          "text": "Configuration ready.\n"
        }
      ],
      "execution_count": 8,
      "metadata": {
        "gather": {
          "logged": 1633739076403
        }
      }
    },
    {
      "cell_type": "markdown",
      "source": [
        "You're going to use a pipeline to run the batch prediction script, generate predictions from the input data, and save the results as a text file in the output folder. To do this, you can use a **ParallelRunStep**, which enables the batch data to be processed in parallel and the results collated in a single output file named *parallel_run_step.txt*."
      ],
      "metadata": {}
    },
    {
      "cell_type": "code",
      "source": [
        "from azureml.pipeline.steps import ParallelRunConfig, ParallelRunStep\n",
        "from azureml.data import OutputFileDatasetConfig\n",
        "from azureml.core.runconfig import DockerConfiguration\n",
        "\n",
        "output_dir = OutputFileDatasetConfig(name='inferences')\n",
        "\n",
        "parallel_run_config = ParallelRunConfig(\n",
        "    source_directory=experiment_folder,\n",
        "    entry_script=\"batch_diabetes.py\",\n",
        "    mini_batch_size=\"5\",\n",
        "    error_threshold=10,\n",
        "    output_action=\"append_row\",\n",
        "    environment=batch_env,\n",
        "    compute_target=inference_cluster,\n",
        "    node_count=2)\n",
        "\n",
        "parallelrun_step = ParallelRunStep(\n",
        "    name='batch-score-diabetes',\n",
        "    parallel_run_config=parallel_run_config,\n",
        "    inputs=[batch_data_set.as_named_input('diabetes_batch')],\n",
        "    output=output_dir,\n",
        "    arguments=[],\n",
        "    allow_reuse=True\n",
        ")\n",
        "\n",
        "print('Steps defined')"
      ],
      "outputs": [
        {
          "output_type": "stream",
          "name": "stdout",
          "text": "Steps defined\n"
        }
      ],
      "execution_count": 9,
      "metadata": {
        "gather": {
          "logged": 1633739156505
        }
      }
    },
    {
      "cell_type": "markdown",
      "source": [
        "Now it's time to put the step into a pipeline, and run it.\n",
        "\n",
        "> **Note**: This may take some time!"
      ],
      "metadata": {}
    },
    {
      "cell_type": "code",
      "source": [
        "from azureml.core import Experiment\r\n",
        "from azureml.pipeline.core import Pipeline\r\n",
        "\r\n",
        "pipeline = Pipeline(workspace=ws, steps=[parallelrun_step])\r\n",
        "pipeline_run = Experiment(ws, 'mslearn-diabetes-batch').submit(pipeline)\r\n",
        "pipeline_run.wait_for_completion(show_output=True)"
      ],
      "outputs": [],
      "execution_count": null,
      "metadata": {
        "jupyter": {
          "source_hidden": false,
          "outputs_hidden": false
        },
        "nteract": {
          "transient": {
            "deleting": false
          }
        }
      }
    },
    {
      "cell_type": "markdown",
      "source": [
        "When the pipeline has finished running, the resulting predictions will have been saved in the outputs of the experiment associated with the first (and only) step in the pipeline. You can retrieve it as follows:"
      ],
      "metadata": {
        "nteract": {
          "transient": {
            "deleting": false
          }
        }
      }
    },
    {
      "cell_type": "code",
      "source": [
        "import pandas as pd\r\n",
        "import shutil\r\n",
        "\r\n",
        "# Remove the local results folder if left over from a previous run\r\n",
        "shutil.rmtree('diabetes-results', ignore_errors=True)\r\n",
        "\r\n",
        "# Get the run for the first step and download its output\r\n",
        "prediction_run = next(pipeline_run.get_children())\r\n",
        "prediction_output = prediction_run.get_output_data('inferences')\r\n",
        "prediction_output.download(local_path='diabetes-results')\r\n",
        "\r\n",
        "# Traverse the folder hierarchy and find the results file\r\n",
        "for root, dirs, files in os.walk('diabetes-results'):\r\n",
        "    for file in files:\r\n",
        "        if file.endswith('parallel_run_step.txt'):\r\n",
        "            result_file = os.path.join(root,file)\r\n",
        "\r\n",
        "# cleanup output format\r\n",
        "df = pd.read_csv(result_file, delimiter=\":\", header=None)\r\n",
        "df.columns = [\"File\", \"Prediction\"]\r\n",
        "\r\n",
        "# Display the first 20 results\r\n",
        "df.head(20)"
      ],
      "outputs": [],
      "execution_count": null,
      "metadata": {
        "jupyter": {
          "source_hidden": false,
          "outputs_hidden": false
        },
        "nteract": {
          "transient": {
            "deleting": false
          }
        }
      }
    },
    {
      "cell_type": "markdown",
      "source": [
        "## Publish the Pipeline and use its REST Interface\n",
        "\n",
        "Now that you have a working pipeline for batch inferencing, you can publish it and use a REST endpoint to run it from an application."
      ],
      "metadata": {}
    },
    {
      "cell_type": "code",
      "source": [
        "published_pipeline = pipeline_run.publish_pipeline(\n",
        "    name='diabetes-batch-pipeline', description='Batch scoring of diabetes data', version='1.0')\n",
        "\n",
        "published_pipeline"
      ],
      "outputs": [],
      "execution_count": null,
      "metadata": {}
    },
    {
      "cell_type": "markdown",
      "source": [
        "Note that the published pipeline has an endpoint, which you can see in the Azure portal. You can also find it as a property of the published pipeline object:"
      ],
      "metadata": {}
    },
    {
      "cell_type": "code",
      "source": [
        "rest_endpoint = published_pipeline.endpoint\n",
        "print(rest_endpoint)"
      ],
      "outputs": [],
      "execution_count": null,
      "metadata": {}
    },
    {
      "cell_type": "markdown",
      "source": [
        "To use the endpoint, client applications need to make a REST call over HTTP. This request must be authenticated, so an authorization header is required. To test this out, we'll use the authorization header from your current connection to your Azure workspace, which you can get using the following code:\n",
        "\n",
        "> **Note**: A real application would require a service principal with which to be authenticated."
      ],
      "metadata": {}
    },
    {
      "cell_type": "code",
      "source": [
        "from azureml.core.authentication import InteractiveLoginAuthentication\n",
        "\n",
        "interactive_auth = InteractiveLoginAuthentication()\n",
        "auth_header = interactive_auth.get_authentication_header()\n",
        "print('Authentication header ready.')"
      ],
      "outputs": [],
      "execution_count": null,
      "metadata": {}
    },
    {
      "cell_type": "markdown",
      "source": [
        "Now we're ready to call the REST interface. The pipeline runs asynchronously, so we'll get an identifier back, which we can use to track the pipeline experiment as it runs:"
      ],
      "metadata": {}
    },
    {
      "cell_type": "code",
      "source": [
        "import requests\n",
        "\n",
        "rest_endpoint = published_pipeline.endpoint\n",
        "response = requests.post(rest_endpoint, \n",
        "                         headers=auth_header, \n",
        "                         json={\"ExperimentName\": \"mslearn-diabetes-batch\"})\n",
        "run_id = response.json()[\"Id\"]\n",
        "run_id"
      ],
      "outputs": [],
      "execution_count": null,
      "metadata": {}
    },
    {
      "cell_type": "markdown",
      "source": [
        "Since we have the run ID, we can use the **RunDetails** widget to view the experiment as it runs:"
      ],
      "metadata": {}
    },
    {
      "cell_type": "code",
      "source": [
        "from azureml.pipeline.core.run import PipelineRun\n",
        "from azureml.widgets import RunDetails\n",
        "\n",
        "published_pipeline_run = PipelineRun(ws.experiments['mslearn-diabetes-batch'], run_id)\n",
        "\n",
        "# Block until the run completes\n",
        "published_pipeline_run.wait_for_completion(show_output=True)"
      ],
      "outputs": [],
      "execution_count": null,
      "metadata": {}
    },
    {
      "cell_type": "markdown",
      "source": [
        "Wait for the pipeline run to complete, and then run the following cell to see the results.\n",
        "\n",
        "As before, the results are in the output of the first pipeline step:"
      ],
      "metadata": {}
    },
    {
      "cell_type": "code",
      "source": [
        "import pandas as pd\n",
        "import shutil\n",
        "\n",
        "# Remove the local results folder if left over from a previous run\n",
        "shutil.rmtree('diabetes-results', ignore_errors=True)\n",
        "\n",
        "# Get the run for the first step and download its output\n",
        "prediction_run = next(pipeline_run.get_children())\n",
        "prediction_output = prediction_run.get_output_data('inferences')\n",
        "prediction_output.download(local_path='diabetes-results')\n",
        "\n",
        "# Traverse the folder hierarchy and find the results file\n",
        "for root, dirs, files in os.walk('diabetes-results'):\n",
        "    for file in files:\n",
        "        if file.endswith('parallel_run_step.txt'):\n",
        "            result_file = os.path.join(root,file)\n",
        "\n",
        "# cleanup output format\n",
        "df = pd.read_csv(result_file, delimiter=\":\", header=None)\n",
        "df.columns = [\"File\", \"Prediction\"]\n",
        "\n",
        "# Display the first 20 results\n",
        "df.head(20)"
      ],
      "outputs": [],
      "execution_count": null,
      "metadata": {}
    },
    {
      "cell_type": "markdown",
      "source": [
        "Now you have a pipeline that can be used to batch process daily patient data.\n",
        "\n",
        "**More Information**: For more details about using pipelines for batch inferencing, see the [How to Run Batch Predictions](https://docs.microsoft.com/azure/machine-learning/how-to-run-batch-predictions) in the Azure Machine Learning documentation."
      ],
      "metadata": {}
    }
  ],
  "metadata": {
    "kernelspec": {
      "name": "python3-azureml",
      "language": "python",
      "display_name": "Python 3.6 - AzureML"
    },
    "language_info": {
      "name": "python",
      "version": "3.6.9",
      "mimetype": "text/x-python",
      "codemirror_mode": {
        "name": "ipython",
        "version": 3
      },
      "pygments_lexer": "ipython3",
      "nbconvert_exporter": "python",
      "file_extension": ".py"
    },
    "kernel_info": {
      "name": "python3-azureml"
    },
    "nteract": {
      "version": "nteract-front-end@1.0.0"
    }
  },
  "nbformat": 4,
  "nbformat_minor": 2
}